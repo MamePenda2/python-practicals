{
 "cells": [
  {
   "cell_type": "markdown",
   "metadata": {},
   "source": [
    "### InitPy-02_Functions Recursions"
   ]
  },
  {
   "cell_type": "markdown",
   "metadata": {},
   "source": [
    "Exercice1:"
   ]
  },
  {
   "cell_type": "code",
   "execution_count": 5,
   "metadata": {},
   "outputs": [
    {
     "name": "stdout",
     "output_type": "stream",
     "text": [
      "Entrez une valeur: 7\n",
      "Entrez une valeur: 8\n",
      "La valeur de la fonction est: 3.558601175463036\n"
     ]
    }
   ],
   "source": [
    "from math import*\n",
    "x=float(input('Entrez une valeur: '))\n",
    "y=float(input('Entrez une valeur: '))\n",
    "Num=sqrt((x**2)+y)\n",
    "Den=(1/x)+2*sin(y)\n",
    "fonc=Num/Den\n",
    "print('La valeur de la fonction est:', fonc)\n"
   ]
  },
  {
   "cell_type": "markdown",
   "metadata": {},
   "source": [
    "Exercice2"
   ]
  },
  {
   "cell_type": "code",
   "execution_count": 54,
   "metadata": {},
   "outputs": [],
   "source": [
    "def ownpowerfn(b,n):\n",
    "    if n<=0:\n",
    "            print('Entre un entier positif')\n",
    "    else:\n",
    "        i=0\n",
    "        b=1\n",
    "        while(i<=n):\n",
    "            b1=b*b\n",
    "        print(b1, 'est la valeur de a puissance',n)\n",
    "        i=i+1"
   ]
  },
  {
   "cell_type": "code",
   "execution_count": null,
   "metadata": {},
   "outputs": [],
   "source": [
    "ownpowerfn(2,3)"
   ]
  },
  {
   "cell_type": "markdown",
   "metadata": {},
   "source": [
    "Exercice3"
   ]
  },
  {
   "cell_type": "code",
   "execution_count": 62,
   "metadata": {},
   "outputs": [
    {
     "name": "stdout",
     "output_type": "stream",
     "text": [
      "3.5\n"
     ]
    }
   ],
   "source": [
    "def arithmetic_mean(a,b):\n",
    "    moyArt=(a+b)/2\n",
    "    print(moyArt)\n",
    "arithmetic_mean(2,5)"
   ]
  },
  {
   "cell_type": "code",
   "execution_count": 63,
   "metadata": {},
   "outputs": [
    {
     "name": "stdout",
     "output_type": "stream",
     "text": [
      "3.1622776601683795\n"
     ]
    }
   ],
   "source": [
    "def geometric_mean(a,b):\n",
    "    moyGeo=sqrt(a*b)\n",
    "    print(moyGeo)\n",
    "geometric_mean(2,5)"
   ]
  },
  {
   "cell_type": "code",
   "execution_count": null,
   "metadata": {},
   "outputs": [],
   "source": [
    "def celcius_to_fahrenheit(a,b):\n",
    "    CelToFah=sqrt(a*b)\n",
    "    print(CelToFah)\n",
    "geometric_mean(2,5)"
   ]
  },
  {
   "cell_type": "code",
   "execution_count": null,
   "metadata": {},
   "outputs": [],
   "source": [
    "def fahrenheit_to_celcius(a,b):\n",
    "    FahToCel=sqrt(a*b)\n",
    "    print(FahToCel)\n",
    "geometric_mean(2,5)"
   ]
  }
 ],
 "metadata": {
  "kernelspec": {
   "display_name": "Python 3",
   "language": "python",
   "name": "python3"
  },
  "language_info": {
   "codemirror_mode": {
    "name": "ipython",
    "version": 3
   },
   "file_extension": ".py",
   "mimetype": "text/x-python",
   "name": "python",
   "nbconvert_exporter": "python",
   "pygments_lexer": "ipython3",
   "version": "3.7.6"
  }
 },
 "nbformat": 4,
 "nbformat_minor": 2
}
